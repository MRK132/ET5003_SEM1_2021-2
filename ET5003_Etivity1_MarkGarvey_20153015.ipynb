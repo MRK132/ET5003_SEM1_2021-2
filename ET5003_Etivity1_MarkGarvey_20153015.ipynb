{
  "nbformat": 4,
  "nbformat_minor": 0,
  "metadata": {
    "colab": {
      "name": "ET5003_Etivity1_MarkGarvey_20153015.ipynb",
      "provenance": [],
      "collapsed_sections": []
    },
    "kernelspec": {
      "name": "python3",
      "display_name": "Python 3"
    },
    "language_info": {
      "name": "python"
    }
  },
  "cells": [
    {
      "cell_type": "markdown",
      "metadata": {
        "id": "jxK1_8f1dvrc"
      },
      "source": [
        "<div>\n",
        "<img src=\"https://drive.google.com/uc?export=view&id=1vK33e_EqaHgBHcbRV_m38hx6IkG0blK_\" width=\"350\"/>\n",
        "</div> \n",
        "\n",
        "#**Artificial Intelligence - MSc**\n",
        "ET5003 - MACHINE LEARNING APPLICATIONS \n",
        "\n",
        "###Instructor: Enrique Naredo\n",
        "###ET5003_Etivity-1"
      ]
    },
    {
      "cell_type": "code",
      "metadata": {
        "id": "LqXD_IwUQuBF",
        "cellView": "form"
      },
      "source": [
        "#@title Current Date\n",
        "Today = '2021-09-19' #@param {type:\"date\"}\n"
      ],
      "execution_count": 1,
      "outputs": []
    },
    {
      "cell_type": "code",
      "metadata": {
        "id": "uzDKau31OjVO",
        "cellView": "form"
      },
      "source": [
        "#@markdown ---\n",
        "#@markdown ### Enter your details here:\n",
        "Student_ID = \"20153015\" #@param {type:\"string\"}\n",
        "Student_full_name = \"Mark Garvey\" #@param {type:\"string\"}\n",
        "#@markdown ---"
      ],
      "execution_count": 2,
      "outputs": []
    },
    {
      "cell_type": "code",
      "metadata": {
        "id": "r39xGZckTpKx",
        "cellView": "form"
      },
      "source": [
        "#@title Notebook information\n",
        "Notebook_type = 'Etivity' #@param [\"Example\", \"Lab\", \"Practice\", \"Etivity\", \"Assignment\", \"Exam\"]\n",
        "Version = Final #@param [\"Draft\", \"Final\"] {type:\"raw\"}\n",
        "Submission = True #@param {type:\"boolean\"}"
      ],
      "execution_count": 3,
      "outputs": []
    },
    {
      "cell_type": "markdown",
      "metadata": {
        "id": "80m304lUefG4"
      },
      "source": [
        "## MNIST dataset"
      ]
    },
    {
      "cell_type": "markdown",
      "metadata": {
        "id": "Bs8mHGcidHSa"
      },
      "source": [
        "\n",
        "\n",
        "The MNIST database  is a dataset of handwritten digits that has been and is extensively used in machine learning. There are $10$ classes, each image is $28\\times28$ pixels and, therefore, each input is $x_i\\in\\mathbb{R}^{784}$. "
      ]
    },
    {
      "cell_type": "markdown",
      "metadata": {
        "id": "ailycCq5epj2"
      },
      "source": [
        "## Task"
      ]
    },
    {
      "cell_type": "markdown",
      "metadata": {
        "id": "a-yNAxhUemjM"
      },
      "source": [
        "You have to extend the code to manage any arbitrary number of classes, in other words you have to implement a general-recipe multinomial logistic classifier and Bayesian multinomial logistic classifier.\n",
        "\n",
        "You must then select  3 digits at random and perform  the following task. \n",
        "\n",
        "1. Your goal is to use Bayesian multinomial logistic regression (as in the road-sign notebook) to solve this classification problem. \n",
        "\n",
        "2. You can downsize the training dataset (e.g., 40% training and 60%testing) if the computation of the posterior takes too much time in your computer.\n",
        "\n",
        "3. Use the posterior uncertainty to detect the instances (digits) in the test set that are hard to classify and remove them from the test-set.\n",
        "\n",
        "4. Then you need to compute again the accuracy of the general-recipe logistic regression on the remaining (non-difficult) instances and comment on the result.\n",
        "\n",
        "5. In practice, the task is to use uncertainty estimation to detect the difficult instances in the test-set. This is equivalent to refuse to classify all high-uncertainty instances or, in other words, when we are uncertain we say \"I don't know\" and we do not return any class. In this way, you will learn how uncertainty can be used to make safer decisions, by detecting the instances that are difficult to classify.\n"
      ]
    },
    {
      "cell_type": "markdown",
      "metadata": {
        "id": "nMRKRTQZe5fW"
      },
      "source": [
        "## Libraries"
      ]
    },
    {
      "cell_type": "code",
      "metadata": {
        "id": "IxusAui7AX_f"
      },
      "source": [
        "# Suppressing Warnings:\n",
        "import warnings\n",
        "warnings.filterwarnings(\"ignore\")"
      ],
      "execution_count": 4,
      "outputs": []
    },
    {
      "cell_type": "code",
      "metadata": {
        "id": "MQOfGMQpdHSb"
      },
      "source": [
        "# Import libraries\n",
        "from sklearn.linear_model import LogisticRegression\n",
        "from sklearn.metrics import accuracy_score\n",
        "from sklearn.model_selection import train_test_split\n",
        "from sklearn.metrics import classification_report\n",
        "import scipy.optimize as optimize\n",
        "from scipy.special import erf\n",
        "import pandas as pd\n",
        "import numpy as np\n",
        "import seaborn as sns\n",
        "from tqdm import tqdm\n",
        "from skimage.io import imread, imshow\n",
        "import matplotlib.image as mpimg\n",
        "import matplotlib.pyplot as plt\n",
        "import matplotlib\n",
        "%matplotlib inline\n",
        "import arviz as az\n",
        "from scipy.io import loadmat\n",
        "import pymc3 as pm\n",
        "import random\n",
        "from IPython.display import HTML\n",
        "import pickle\n",
        "import theano as tt\n",
        "import cv2\n",
        "from sklearn.utils import shuffle\n",
        "from skimage.color import rgb2gray\n",
        "\n",
        "plt.rcParams['figure.figsize'] = [12, 8]"
      ],
      "execution_count": 5,
      "outputs": []
    },
    {
      "cell_type": "code",
      "metadata": {
        "id": "P5-qMSjpAQ-9"
      },
      "source": [
        "# Setting a seed:\n",
        "np.random.seed(123)"
      ],
      "execution_count": 6,
      "outputs": []
    },
    {
      "cell_type": "markdown",
      "metadata": {
        "id": "r4hSuwkUfVQb"
      },
      "source": [
        "## Dataset"
      ]
    },
    {
      "cell_type": "markdown",
      "metadata": {
        "id": "w99Pc66YdHSd"
      },
      "source": [
        "### Loading the MNIST dataset"
      ]
    },
    {
      "cell_type": "code",
      "metadata": {
        "colab": {
          "base_uri": "https://localhost:8080/"
        },
        "id": "CYFWAbXVzynp",
        "outputId": "18916fd6-d43d-4862-d87f-fc93520e81fa"
      },
      "source": [
        "from google.colab import drive\n",
        "drive.mount('/content/drive')"
      ],
      "execution_count": 7,
      "outputs": [
        {
          "output_type": "stream",
          "name": "stdout",
          "text": [
            "Drive already mounted at /content/drive; to attempt to forcibly remount, call drive.mount(\"/content/drive\", force_remount=True).\n"
          ]
        }
      ]
    },
    {
      "cell_type": "code",
      "metadata": {
        "colab": {
          "base_uri": "https://localhost:8080/"
        },
        "id": "g4rCnS4vdHSd",
        "outputId": "efe37d03-d7f5-4e12-932b-cab8ec9fb946"
      },
      "source": [
        "# Path, copy the path from your Drive\n",
        "Path = '/content/drive/MyDrive/Code/Assignments/'\n",
        "\n",
        "# MNIST Data\n",
        "train_data = Path + 'mnist_train.csv'\n",
        "test_data = Path + 'mnist_test.csv'\n",
        "\n",
        "# train data\n",
        "df_train = pd.read_csv(train_data)\n",
        "X_train = df_train.drop(\"label\",axis=1).values\n",
        "y_train = df_train.label.values\n",
        "print(X_train.shape)\n",
        "\n",
        "# test data\n",
        "df_test = pd.read_csv(test_data)\n",
        "X_test = df_test.drop(\"label\",axis=1).values\n",
        "y_test = df_test.label.values\n",
        "print(X_test.shape)"
      ],
      "execution_count": 8,
      "outputs": [
        {
          "output_type": "stream",
          "name": "stdout",
          "text": [
            "(60000, 784)\n",
            "(10000, 784)\n"
          ]
        }
      ]
    },
    {
      "cell_type": "markdown",
      "metadata": {
        "id": "s2WSWVhVDzMd"
      },
      "source": [
        "## Normalise data, to be within range of 0-1:"
      ]
    },
    {
      "cell_type": "code",
      "metadata": {
        "colab": {
          "base_uri": "https://localhost:8080/"
        },
        "id": "O2ubJ_WoAqBh",
        "outputId": "a041b37f-8d2a-4c9a-bb51-968f2534a3d5"
      },
      "source": [
        "# Normalizing the Inputs:\n",
        "X_train = X_train/255\n",
        "X_test = X_test/255\n",
        "\n",
        "# Printing the new input range of values:\n",
        "minv = np.min(X_train)\n",
        "maxv = np.max(X_train)\n",
        "print(minv,maxv)"
      ],
      "execution_count": 9,
      "outputs": [
        {
          "output_type": "stream",
          "name": "stdout",
          "text": [
            "0.0 1.0\n"
          ]
        }
      ]
    },
    {
      "cell_type": "markdown",
      "metadata": {
        "id": "SR6HpkWndHSe"
      },
      "source": [
        "### Description of Data:"
      ]
    },
    {
      "cell_type": "code",
      "metadata": {
        "colab": {
          "base_uri": "https://localhost:8080/"
        },
        "id": "sibN1Vv1dHSf",
        "outputId": "84cb1b85-e333-4917-a088-af737c484025"
      },
      "source": [
        "# Number of examples\n",
        "n_train =  len(X_train)\n",
        "n_test =  len(X_test)\n",
        "\n",
        "# Shape of mnist image\n",
        "image_shape = X_train.shape[1]\n",
        "\n",
        "# unique classes/labels in the training dataset.\n",
        "alltotal = set(y_train)\n",
        "n_classes = len(alltotal)\n",
        "\n",
        "print(\"Number of Training examples =\", n_train)\n",
        "print(\"Number of Test examples =\", n_test)\n",
        "print(\"Image input shape =\", image_shape)\n",
        "print(\"Number of classes =\", n_classes)"
      ],
      "execution_count": 10,
      "outputs": [
        {
          "output_type": "stream",
          "name": "stdout",
          "text": [
            "Number of Training examples = 60000\n",
            "Number of Test examples = 10000\n",
            "Image input shape = 784\n",
            "Number of classes = 10\n"
          ]
        }
      ]
    },
    {
      "cell_type": "markdown",
      "metadata": {
        "id": "6HQDSvrRKZF6"
      },
      "source": [
        "### Class Distribution:"
      ]
    },
    {
      "cell_type": "code",
      "metadata": {
        "id": "XG8GdlpBKdCt",
        "colab": {
          "base_uri": "https://localhost:8080/",
          "height": 513
        },
        "outputId": "8bbe0d59-b249-4a9d-8098-49f691228b56"
      },
      "source": [
        "fig, ax = plt.subplots()\n",
        "ind = np.arange(n_classes)\n",
        "\n",
        "n, bins, patches = ax.hist([str(i) for i in y_train], n_classes)\n",
        "ax.set_xlabel('classes')\n",
        "ax.set_ylabel('counts')\n",
        "ax.set_title(r'Histogram of Digit images')\n",
        "plt.show()"
      ],
      "execution_count": 11,
      "outputs": [
        {
          "output_type": "display_data",
          "data": {
            "image/png": "[encoded data removed]",
            "text/plain": [
              "<Figure size 864x576 with 1 Axes>"
            ]
          },
          "metadata": {
            "needs_background": "light"
          }
        }
      ]
    },
    {
      "cell_type": "markdown",
      "metadata": {
        "id": "mA1AFNTUFKEX"
      },
      "source": [
        "Classes appear to be evenly distributed overall, with slightly more samples for class 1, 3 and 7."
      ]
    },
    {
      "cell_type": "markdown",
      "metadata": {
        "id": "EyLWw3nsLCtk"
      },
      "source": [
        "## Downsampling"
      ]
    },
    {
      "cell_type": "markdown",
      "metadata": {
        "id": "2U1lFEwhLKBf"
      },
      "source": [
        "### Randomly selecting 3 of the 10 Digit Classes"
      ]
    },
    {
      "cell_type": "code",
      "metadata": {
        "id": "0EeRZZWdLRPT",
        "colab": {
          "base_uri": "https://localhost:8080/"
        },
        "outputId": "c8662ebd-be18-4c22-fe77-6fa1c7b27f47"
      },
      "source": [
        "# We select the number of Classes we want:\n",
        "n_classes = 3\n",
        "\n",
        "# Empty list to append the random digit classes we select:\n",
        "classes = []\n",
        "\n",
        "# We select 3 digits at random and make sure they are unique:\n",
        "while len(classes) < n_classes:\n",
        "    \n",
        "    # Randomly drawing a digit from 0-9:\n",
        "    num2choose = np.random.randint(0,10)\n",
        "\n",
        "    # Append the digit if it's not already in our list of classes:\n",
        "    if num2choose not in classes: \n",
        "        classes.append(num2choose)\n",
        "        \n",
        "        \n",
        "# Sorting the Classes smallest to largest    \n",
        "classes.sort()\n",
        "# print classes selected\n",
        "classes"
      ],
      "execution_count": 12,
      "outputs": [
        {
          "output_type": "execute_result",
          "data": {
            "text/plain": [
              "[1, 2, 6]"
            ]
          },
          "metadata": {},
          "execution_count": 12
        }
      ]
    },
    {
      "cell_type": "code",
      "metadata": {
        "id": "2M8R5NqKMB_M"
      },
      "source": [
        "# The number of instances we'll keep for each of our 3 digits:\n",
        "inst_class = 1000\n",
        "inputs = []\n",
        "labels = []\n",
        "\n",
        "# Loop to randomly sample the instances for each digit:\n",
        "for r in classes:\n",
        "    imgs = X_train[np.where(y_train==r)[0],:]\n",
        "    inputs.append(imgs[np.random.permutation(imgs.shape[0]),:][0:inst_class,:])\n",
        "    labels.append(np.ones(inst_class)*r)\n",
        "    \n",
        "# Shaping inputs and labels in the right format    \n",
        "X_train = np.vstack(inputs).astype(np.float64)\n",
        "y_train = np.hstack(labels)"
      ],
      "execution_count": 13,
      "outputs": []
    },
    {
      "cell_type": "code",
      "metadata": {
        "colab": {
          "base_uri": "https://localhost:8080/"
        },
        "id": "L5YibrmDemrn",
        "outputId": "aea19852-7b0d-4118-f2f9-8ca28b4e533e"
      },
      "source": [
        "X_train"
      ],
      "execution_count": 14,
      "outputs": [
        {
          "output_type": "execute_result",
          "data": {
            "text/plain": [
              "array([[0., 0., 0., ..., 0., 0., 0.],\n",
              "       [0., 0., 0., ..., 0., 0., 0.],\n",
              "       [0., 0., 0., ..., 0., 0., 0.],\n",
              "       ...,\n",
              "       [0., 0., 0., ..., 0., 0., 0.],\n",
              "       [0., 0., 0., ..., 0., 0., 0.],\n",
              "       [0., 0., 0., ..., 0., 0., 0.]])"
            ]
          },
          "metadata": {},
          "execution_count": 14
        }
      ]
    },
    {
      "cell_type": "markdown",
      "metadata": {
        "id": "_6-YHrQQMicy"
      },
      "source": [
        "New Classes Distribution"
      ]
    },
    {
      "cell_type": "code",
      "metadata": {
        "id": "RA300COaMxWm",
        "colab": {
          "base_uri": "https://localhost:8080/",
          "height": 513
        },
        "outputId": "9de02085-c983-49df-b05c-c8f9dfda0177"
      },
      "source": [
        "# new histogram\n",
        "fig, ax = plt.subplots()\n",
        "ind = np.arange(n_classes)\n",
        "\n",
        "n, bins, patches = ax.hist([str(i) for i in y_train], n_classes)\n",
        "ax.set_xlabel('classes')\n",
        "ax.set_ylabel('counts')\n",
        "ax.set_title(r'Histogram of Digit images')\n",
        "plt.show()"
      ],
      "execution_count": 15,
      "outputs": [
        {
          "output_type": "display_data",
          "data": {
            "image/png": "[encoded data removed]",
            "text/plain": [
              "<Figure size 864x576 with 1 Axes>"
            ]
          },
          "metadata": {
            "needs_background": "light"
          }
        }
      ]
    },
    {
      "cell_type": "markdown",
      "metadata": {
        "id": "5OmAjHaTF61h"
      },
      "source": [
        "We have selected 1000 random samples for each of our chosen classes: 2, 7 and 8."
      ]
    },
    {
      "cell_type": "code",
      "metadata": {
        "id": "eFgP4xugMvJm"
      },
      "source": [
        "# plot digits\n",
        "def plot_digits(instances, images_per_row=5, **options):\n",
        "    size = 28\n",
        "    images_per_row = min(len(instances), images_per_row)\n",
        "    images = [instance.reshape(size,size) for instance in instances]\n",
        "    n_rows = (len(instances) - 1) // images_per_row + 1\n",
        "    row_images = []\n",
        "    n_empty = n_rows * images_per_row - len(instances)\n",
        "    images.append(np.zeros((size, size * n_empty)))\n",
        "    for row in range(n_rows):\n",
        "        rimages = images[row * images_per_row : (row + 1) * images_per_row]\n",
        "        row_images.append(np.concatenate(rimages, axis=1))\n",
        "    image = np.concatenate(row_images, axis=0)\n",
        "    plt.imshow(image,  cmap='gist_yarg', **options)\n",
        "    plt.axis(\"off\")"
      ],
      "execution_count": 16,
      "outputs": []
    },
    {
      "cell_type": "code",
      "metadata": {
        "colab": {
          "base_uri": "https://localhost:8080/",
          "height": 272
        },
        "id": "sn2ptyivJHQ4",
        "outputId": "c6dd99c4-074f-4ad1-b32a-5807f5162a3f"
      },
      "source": [
        "\n",
        "\n",
        "# Show a few instances from each Digit:\n",
        "plt.figure(figsize=(8,8))\n",
        "\n",
        "# Selecting a few label indices from each of the 3 classes to show:\n",
        "label_indices = np.hstack([np.random.choice(np.where(y_train==label)[0], size=9) for label in classes])\n",
        "\n",
        "print('Selected Indices:')\n",
        "print(label_indices)\n",
        "\n",
        "# Plotting 'original' image\n",
        "plot_digits(X_train[label_indices,:],images_per_row=9)\n",
        "plt.title(\"Original\", fontsize=14)\n",
        "\n"
      ],
      "execution_count": 17,
      "outputs": [
        {
          "output_type": "stream",
          "name": "stdout",
          "text": [
            "Selected Indices:\n",
            "[ 276  768  204  335  841  849  170  259  300 1226 1341 1107 1045 1220\n",
            " 1810 1885 1634 1179 2032 2932 2588 2695 2168 2725 2650 2820 2575]\n"
          ]
        },
        {
          "output_type": "execute_result",
          "data": {
            "text/plain": [
              "Text(0.5, 1.0, 'Original')"
            ]
          },
          "metadata": {},
          "execution_count": 17
        },
        {
          "output_type": "display_data",
          "data": {
            "image/png": "[encoded data removed]",
            "text/plain": [
              "<Figure size 576x576 with 1 Axes>"
            ]
          },
          "metadata": {
            "needs_background": "light"
          }
        }
      ]
    },
    {
      "cell_type": "markdown",
      "metadata": {
        "id": "FsAOnOcNNG_V"
      },
      "source": [
        "###  Splitting the Training data into both Training and Validation Sets:\n",
        "\n",
        "- Although this is the Training set, we can still set aside some samples (for instance 20%) of the 1,500 instances we have for Model Validation purposes.\n",
        "\n",
        "\n",
        "- With that Validation Set, we can then select the amount of Uncertainty we are happy with from our Model to use out of sample on other unseen data.\n",
        "\n",
        "\n",
        "- We can then test out how well our decision performs on the Test Set that we put aside earlier."
      ]
    },
    {
      "cell_type": "code",
      "metadata": {
        "id": "YdsmyVAtPXNn"
      },
      "source": [
        "### Split the dataset in training and validation sets\n",
        "# choose the fraction of your validation data from the training set\n",
        "w = 0.20\n",
        "X_train, X_val, y_train, y_val = train_test_split(X_train, y_train, test_size=w, random_state=0)\n",
        " \n",
        "# Shuffling the training instaces around to randomize the order of inputs to the model:\n",
        "X_train, y_train = shuffle(X_train, y_train)"
      ],
      "execution_count": 18,
      "outputs": []
    },
    {
      "cell_type": "code",
      "metadata": {
        "id": "qXwJwP0iPxhi",
        "colab": {
          "base_uri": "https://localhost:8080/"
        },
        "outputId": "d0a53466-59a0-477a-85c2-d1a1594efe3f"
      },
      "source": [
        "# print shape of your validation and training set\n",
        "print(X_val.shape)\n",
        "print(X_train.shape)\n",
        "\n"
      ],
      "execution_count": 19,
      "outputs": [
        {
          "output_type": "stream",
          "name": "stdout",
          "text": [
            "(600, 784)\n",
            "(2400, 784)\n"
          ]
        }
      ]
    },
    {
      "cell_type": "markdown",
      "metadata": {
        "id": "rjUaqWTqQIcp"
      },
      "source": [
        "### General-Recipe ML"
      ]
    },
    {
      "cell_type": "code",
      "metadata": {
        "id": "QzgdivxfQNv5",
        "colab": {
          "base_uri": "https://localhost:8080/"
        },
        "outputId": "01a8a558-f3cd-47f4-e6e0-3f732c68417e"
      },
      "source": [
        "# model\n",
        "model_log = LogisticRegression(multi_class='multinomial').fit(X_train, y_train)\n",
        "\n",
        "# Classification:\n",
        "y_pred_log = model_log.predict(X_val)\n",
        "y_pred_logi_prob = model_log.predict_proba(X_val)\n",
        "\n",
        "\n",
        "print(classification_report(y_val, y_pred_log))\n",
        "              \n",
        "# Computing the Accuracy:\n",
        "print('Accuracy is:')\n",
        "print(accuracy_score(y_pred_log, y_val))\n",
        "print('')\n",
        "from sklearn.metrics import confusion_matrix\n",
        "print(confusion_matrix(y_pred_log, y_val))"
      ],
      "execution_count": 21,
      "outputs": [
        {
          "output_type": "stream",
          "name": "stdout",
          "text": [
            "              precision    recall  f1-score   support\n",
            "\n",
            "         1.0       0.97      0.98      0.98       237\n",
            "         2.0       0.94      0.98      0.96       187\n",
            "         6.0       0.99      0.94      0.97       176\n",
            "\n",
            "    accuracy                           0.97       600\n",
            "   macro avg       0.97      0.97      0.97       600\n",
            "weighted avg       0.97      0.97      0.97       600\n",
            "\n",
            "Accuracy is:\n",
            "0.9683333333333334\n",
            "\n",
            "[[232   2   4]\n",
            " [  5 183   6]\n",
            " [  0   2 166]]\n"
          ]
        }
      ]
    },
    {
      "cell_type": "markdown",
      "metadata": {
        "id": "--36m4b2NPnh"
      },
      "source": [
        "The general recipe Logistic Regression is 96% accurate when predicting across the 3 classes. \n",
        "\n",
        "The confusion matrix shows the **most false positive predictions** belong to the third class, **class 6**. \n",
        "\n",
        "\n",
        "*   There are 4 instances where class 6 was falsely  predicted to be class 1.\n",
        "*   There are 6 instances where class 6 was falsely  predicted to be class 2.\n",
        "\n",
        "This results in class 6 having the lowest recall score among the three classes, as observed in the classification report above.\n",
        "\n",
        "This means it correctly predicts 94% of all the class 6 predictions made. Comparitavely, class 0 and 1 have higher recall of 98%.\n",
        "\n",
        "One could say that class 6 is the class where there is the most uncertainty about whether a prediction of this class is true or not.\n",
        "\n"
      ]
    },
    {
      "cell_type": "code",
      "metadata": {
        "id": "W3jzczJzRAtT",
        "colab": {
          "base_uri": "https://localhost:8080/"
        },
        "outputId": "ba020615-5c55-46c0-ff1e-348f4dead9fa"
      },
      "source": [
        "prob_classmax = np.max(y_pred_logi_prob,axis=1)\n",
        "prob_classmax[y_pred_logi_prob!=y_val]"
      ],
      "execution_count": 22,
      "outputs": [
        {
          "output_type": "execute_result",
          "data": {
            "text/plain": [
              "array([[0.99262366, 0.9642093 , 1.        , 0.9996684 , 0.99866365,\n",
              "        0.99999865, 0.99996613, 0.99627521, 0.99993955, 0.99944142,\n",
              "        0.98939665, 0.99109288, 0.99914662, 0.99451793, 0.8951549 ,\n",
              "        0.99999786, 0.99999822, 0.98228139, 0.97849008, 0.99110461,\n",
              "        0.99990202, 0.99875315, 0.99994812, 0.99998452, 0.99997709,\n",
              "        0.99360666, 0.99602481, 0.99756929, 0.99999988, 0.9991082 ,\n",
              "        0.99967199, 0.997259  , 0.99739428, 0.99999678, 0.99998554,\n",
              "        0.99985035, 0.99972334, 0.99996052, 0.99980843, 0.99997368,\n",
              "        0.99999923, 0.99303287, 0.9991659 , 0.99069398, 0.99677686,\n",
              "        0.99076498, 0.57001451, 0.9999999 , 0.97440735, 0.99915391,\n",
              "        0.99988913, 0.96315567, 0.99918325, 0.99464488, 0.99997597,\n",
              "        0.99257257, 0.99992698, 0.99777591, 0.98509472, 0.99787257,\n",
              "        0.99995751, 0.75551076, 0.7496085 , 0.99185086, 0.99992227,\n",
              "        0.99942553, 0.99828187, 0.99805041, 0.99981144, 0.99720282,\n",
              "        0.99964026, 0.99948118, 0.99994776, 0.99999978, 0.98931855,\n",
              "        0.99866687, 0.99998248, 0.99999055, 0.58455545, 0.99660154,\n",
              "        0.99901162, 0.99738924, 0.99750645, 0.99999264, 0.99871797,\n",
              "        0.99989555, 0.99698408, 0.99536335, 0.95044257, 0.99513794,\n",
              "        0.9681675 , 0.99996688, 0.99987041, 0.64780672, 0.99891032,\n",
              "        0.99907688, 0.99549285, 0.99055148, 0.99903115, 0.9976934 ,\n",
              "        0.9987758 , 0.99951067, 0.99655135, 0.99999465, 0.99800652,\n",
              "        0.597132  , 0.99655898, 0.99998771, 0.99982442, 0.99988633,\n",
              "        0.99999979, 0.99756294, 0.99474523, 0.99996035, 0.99997239,\n",
              "        0.99930524, 0.99843366, 0.79365265, 0.97136561, 0.99999596,\n",
              "        0.99999804, 0.93248932, 0.99994251, 0.99429022, 0.99982159,\n",
              "        0.97539337, 0.99993212, 0.99989334, 0.98427383, 0.99896703,\n",
              "        0.99999515, 0.99971073, 0.99857823, 0.97520507, 0.99880324,\n",
              "        0.99918305, 0.99997109, 0.99931036, 0.99938867, 0.99623682,\n",
              "        0.87395809, 0.99989885, 0.95412682, 0.99573357, 0.97907928,\n",
              "        0.99987527, 0.99759608, 0.99923057, 0.99999667, 0.99999265,\n",
              "        0.99945657, 0.70310739, 0.99999407, 0.99999953, 0.99248654,\n",
              "        0.9917255 , 0.96857065, 0.99685013, 0.99704337, 0.99778127,\n",
              "        0.78154439, 0.99999998, 0.99286618, 0.99552487, 0.99928015,\n",
              "        0.99986146, 0.99971587, 0.99945993, 0.99788399, 0.99999752,\n",
              "        0.99775331, 0.99786576, 0.99990809, 0.99999974, 0.99999211,\n",
              "        0.99779615, 0.89266816, 0.99969226, 0.99926732, 0.99999925,\n",
              "        0.99959604, 0.99983886, 0.99999743, 0.95771357, 0.99780595,\n",
              "        0.99986127, 0.98416928, 0.99017615, 0.9974789 , 0.96318746,\n",
              "        0.99262699, 0.99953305, 0.99952441, 0.99987804, 0.99980756,\n",
              "        0.9832103 , 0.99073278, 0.99557976, 0.99977514, 0.99380659,\n",
              "        0.99801491, 0.99912436, 0.99977284, 0.99960426, 0.5897657 ,\n",
              "        0.99991957, 0.95411515, 0.99929969, 0.97599834, 0.99808869,\n",
              "        0.92827337, 0.99975026, 0.99988272, 0.99639503, 0.99912811,\n",
              "        0.9999977 , 0.90890078, 0.98769346, 0.99993425, 0.99993225,\n",
              "        0.97620614, 0.97105385, 0.99411359, 0.99999676, 0.99614917,\n",
              "        0.95547661, 0.99999972, 0.99999499, 0.99923775, 0.99416774,\n",
              "        0.99276379, 0.99073482, 0.99986071, 0.93134348, 0.99815091,\n",
              "        0.99001876, 0.99719433, 0.99984392, 0.99999899, 0.99979402,\n",
              "        0.99999883, 0.98640864, 0.98489008, 0.94900756, 0.9935815 ,\n",
              "        0.9999861 , 0.9840024 , 0.99999999, 0.99999414, 0.84393256,\n",
              "        0.99906276, 0.86060212, 0.9995364 , 0.99971458, 0.99682572,\n",
              "        0.9597214 , 0.99789274, 0.99994654, 0.99996376, 0.99787735,\n",
              "        0.86314395, 0.99062817, 0.99985919, 0.99777963, 0.99720392,\n",
              "        0.96252169, 0.9929304 , 0.99826884, 0.99957692, 0.95912234,\n",
              "        0.99977001, 0.99915061, 0.99083168, 0.99985991, 0.99827876,\n",
              "        0.99995839, 0.99980078, 0.99760548, 0.99972403, 0.9999998 ,\n",
              "        0.9991958 , 0.99999998, 0.9197829 , 0.99192536, 0.99952631,\n",
              "        0.99995514, 0.99746383, 0.99802201, 0.99987351, 0.7587113 ,\n",
              "        0.99999966, 0.98161868, 0.9885782 , 0.999995  , 0.99998326,\n",
              "        0.99639597, 0.99947069, 0.99974697, 0.99383395, 0.99996836,\n",
              "        0.99978517, 0.99829815, 0.97030106, 0.99992977, 0.99984508,\n",
              "        0.97644606, 0.99954233, 0.99519573, 0.99962275, 0.99587832,\n",
              "        0.99999535, 0.99905218, 0.9999727 , 0.9998717 , 0.9975012 ,\n",
              "        0.99983331, 0.67310474, 0.99997721, 0.99989444, 0.99124719,\n",
              "        0.99971165, 0.9996303 , 0.97153019, 0.98933686, 0.99981332,\n",
              "        0.99977453, 0.99999188, 0.98929259, 0.99998809, 0.99754575,\n",
              "        0.98278265, 0.99995092, 0.9998553 , 0.99439432, 0.99760908,\n",
              "        0.99998848, 0.991759  , 0.99815585, 0.99962861, 0.95940484,\n",
              "        0.95904533, 0.99857143, 0.99624907, 0.98008346, 0.99999895,\n",
              "        0.99485291, 0.99973582, 0.99904584, 0.9992917 , 0.99978265,\n",
              "        0.99708576, 0.99872312, 0.93646777, 0.99693948, 0.99015729,\n",
              "        0.98074566, 0.99998016, 0.9992204 , 0.995099  , 0.99982841,\n",
              "        0.99988152, 0.99610663, 0.95963627, 0.90156453, 0.9999962 ,\n",
              "        0.99995666, 0.99835499, 0.99913055, 0.99974839, 0.99794498,\n",
              "        0.99900989, 0.99119158, 0.99979271, 0.90673828, 0.97445299,\n",
              "        0.99952657, 0.99974495, 0.99972037, 0.99999891, 0.98790875,\n",
              "        0.99993085, 0.99993371, 0.99888985, 0.99999994, 0.89969621,\n",
              "        0.9999234 , 0.5800951 , 0.99966186, 0.99787295, 0.99981539,\n",
              "        0.99995086, 0.99902158, 0.99983139, 0.99964994, 0.99836388,\n",
              "        0.99991487, 0.99946652, 0.99961832, 0.9984766 , 0.58749355,\n",
              "        0.99984507, 0.95210246, 0.99746598, 0.99999223, 0.98148102,\n",
              "        0.9997666 , 0.99811643, 0.97923182, 0.99914164, 0.99977997,\n",
              "        0.99942615, 0.58732928, 0.99934914, 0.99840935, 0.90118675,\n",
              "        0.99962615, 0.65375957, 0.99570445, 0.99972554, 0.99978511,\n",
              "        0.9999982 , 0.99887862, 0.99973247, 0.99999019, 0.99829933,\n",
              "        0.99998979, 0.99641586, 0.99914084, 0.9997814 , 0.99910374,\n",
              "        0.99999983, 0.99999615, 0.99971276, 0.99850698, 0.99922223,\n",
              "        0.99999998, 0.95453463, 0.99936009, 0.99993236, 0.99240667,\n",
              "        1.        , 0.99670828, 0.99676883, 0.99975989, 0.9872358 ,\n",
              "        0.99719128, 0.99999611, 0.99927325, 0.95384299, 0.99893571,\n",
              "        0.65333757, 0.97446418, 0.68513962, 0.98846008, 0.99945542,\n",
              "        0.97796169, 0.99686646, 0.99979918, 0.98722038, 0.99058169,\n",
              "        0.99860002, 0.99972146, 0.97669573, 0.99776718, 0.99985317,\n",
              "        0.99999894, 0.90542005, 0.99213227, 0.99776124, 0.95762968,\n",
              "        0.99999876, 0.99994728, 0.99521721, 0.99961984, 0.99999995,\n",
              "        0.99999331, 0.99998982, 0.98297467, 0.58481292, 0.99999397,\n",
              "        0.999607  , 0.5099486 , 1.        , 0.99490812, 0.95600967,\n",
              "        0.67571503, 0.98933543, 0.99991925, 0.99954635, 0.99999922,\n",
              "        0.99998687, 0.99999773, 0.99943904, 0.99662433, 0.99649281,\n",
              "        0.99929716, 0.99992419, 0.99996382, 0.99689583, 0.96836659,\n",
              "        0.99903473, 0.99137884, 0.99999836, 0.98573201, 0.99987996,\n",
              "        0.99896978, 0.99920321, 0.99645687, 0.98971146, 0.99997222,\n",
              "        0.99572145, 0.99928329, 0.99999777, 0.99835896, 0.99935292,\n",
              "        0.99926125, 0.99895273, 0.98778498, 0.99914461, 0.99553491,\n",
              "        0.99975041, 0.99938352, 0.99603466, 0.99805919, 0.99978375,\n",
              "        0.99764883, 0.9733894 , 0.99999722, 0.9998597 , 0.9999965 ,\n",
              "        0.99989736, 0.9948652 , 0.97685737, 0.99951305, 0.77361537,\n",
              "        0.99783975, 0.99737035, 0.99968375, 0.99090331, 0.61537429,\n",
              "        0.99954248, 0.99999816, 0.99813845, 0.99851761, 0.99883443,\n",
              "        0.99999319, 0.99950295, 0.99842668, 0.99991429, 0.86626889,\n",
              "        0.99786809, 0.55732018, 1.        , 0.9865825 , 0.99618768,\n",
              "        0.99579043, 0.99022746, 0.99971639, 0.99627441, 0.99957464,\n",
              "        0.99999996, 0.99577212, 0.99943316, 0.61225729, 0.94700363,\n",
              "        0.9999905 , 0.99844672, 0.99864911, 0.9986182 , 0.99783343,\n",
              "        0.99186122, 0.99981061, 0.97907493, 0.89187125, 0.98894585,\n",
              "        0.99997862, 0.98021278, 0.99998821, 0.99415987, 0.99018679,\n",
              "        0.83144509, 0.99876449, 0.9996521 , 0.99999144, 0.99195733,\n",
              "        0.99999923, 0.99961432, 0.90341722, 0.99358429, 0.9982599 ,\n",
              "        0.99557672, 0.99965846, 0.99857541, 0.98708718, 0.99672093,\n",
              "        0.99974121, 0.99999997, 0.99607365, 0.99883512, 0.99996824]])"
            ]
          },
          "metadata": {},
          "execution_count": 22
        }
      ]
    },
    {
      "cell_type": "markdown",
      "metadata": {
        "id": "3uQG6JsOQxH5"
      },
      "source": [
        "### Probabilistic Multinomial Logistic Regression:"
      ]
    },
    {
      "cell_type": "markdown",
      "metadata": {
        "id": "irlmUNw7Q5YL"
      },
      "source": [
        "The Multinomial Logistic Regression has some parameters:\n",
        "\n",
        "- $\\alpha$, which is the intercept term:\n",
        "\n",
        "- $\\beta$, which is a vector of coefficients which give a weighting to the importance of each input feature:\n"
      ]
    },
    {
      "cell_type": "code",
      "metadata": {
        "id": "1o7mbKWmRhz5"
      },
      "source": [
        "import sklearn.preprocessing\n",
        "## We use LabelBinarizer to transfor classes into counts\n",
        "# neg_label=0, pos_label=1 \n",
        "y_2_bin = sklearn.preprocessing.LabelBinarizer().fit_transform(y_train.reshape(-1,1))\n",
        "nf = X_train.shape[1]\n",
        "# number of classes\n",
        "nc = len(classes)\n",
        "# floatX = float32\n",
        "floatX = tt.config.floatX\n",
        "\n",
        "init_b = np.random.randn(nf, nc-1).astype(floatX)\n",
        "init_a = np.random.randn(nc-1).astype(floatX)\n",
        "\n",
        "\n",
        "with pm.Model() as multi_logistic:\n",
        "    # Prior\n",
        "    β = pm.Normal('beta', 0, sigma=100, shape=(nf, nc-1), testval=init_b)\n",
        "    α = pm.Normal('alpha', 0, sigma=100, shape=(nc-1,), testval=init_a)\n",
        "    \n",
        "    # we need to consider nc-1 features because the model is not identifiable\n",
        "    # the softmax turns a vector into a probability that sums up to one\n",
        "    # therefore we add zeros to go back to dimension nc\n",
        "    # so that softmax returns a vector of dimension nc\n",
        "    β1  = tt.tensor.concatenate([np.zeros((nf,1)),β ],axis=1)\n",
        "    α1  = tt.tensor.concatenate([[0],α ],)\n",
        "    \n",
        "    # Likelihood\n",
        "    mu = pm.math.matrix_dot(X_train,β1) + α1\n",
        "    # It doesn't work if the problem is binary\n",
        "    p = tt.tensor.nnet.nnet.softmax(mu)\n",
        "    observed = pm.Multinomial('likelihood', p=p, n=1, observed=y_2_bin)"
      ],
      "execution_count": 23,
      "outputs": []
    },
    {
      "cell_type": "code",
      "metadata": {
        "id": "aj6Uzc05Rhtr",
        "colab": {
          "base_uri": "https://localhost:8080/"
        },
        "outputId": "57dc6888-f95d-4192-b69a-71b5618e1ddc"
      },
      "source": [
        "y_2_bin\n"
      ],
      "execution_count": 24,
      "outputs": [
        {
          "output_type": "execute_result",
          "data": {
            "text/plain": [
              "array([[1, 0, 0],\n",
              "       [1, 0, 0],\n",
              "       [1, 0, 0],\n",
              "       ...,\n",
              "       [1, 0, 0],\n",
              "       [0, 0, 1],\n",
              "       [0, 0, 1]])"
            ]
          },
          "metadata": {},
          "execution_count": 24
        }
      ]
    },
    {
      "cell_type": "markdown",
      "metadata": {
        "id": "owhNOkKSyCt5"
      },
      "source": [
        "Train Bayesian LR model using [ADVI](https://arxiv.org/abs/1603.00788):"
      ]
    },
    {
      "cell_type": "code",
      "metadata": {
        "id": "2MFH4gwlRhrB",
        "colab": {
          "base_uri": "https://localhost:8080/",
          "height": 95
        },
        "outputId": "48cf7d48-91f7-45ee-f3de-b6c0ebc48846"
      },
      "source": [
        "\n",
        "with multi_logistic:\n",
        "    approx = pm.fit(300000, method='advi') # takes longer\n",
        "    #approx = pm.fit(3000, method='advi')"
      ],
      "execution_count": 25,
      "outputs": [
        {
          "output_type": "stream",
          "name": "stderr",
          "text": [
            "WARNING (theano.tensor.blas): We did not find a dynamic library in the library_dir of the library we use for blas. If you use ATLAS, make sure to compile it with dynamics library.\n"
          ]
        },
        {
          "output_type": "display_data",
          "data": {
            "text/html": [
              "\n",
              "    <div>\n",
              "        <style>\n",
              "            /* Turns off some styling */\n",
              "            progress {\n",
              "                /* gets rid of default border in Firefox and Opera. */\n",
              "                border: none;\n",
              "                /* Needs to be in here for Safari polyfill so background images work as expected. */\n",
              "                background-size: auto;\n",
              "            }\n",
              "            .progress-bar-interrupted, .progress-bar-interrupted::-webkit-progress-bar {\n",
              "                background: #F44336;\n",
              "            }\n",
              "        </style>\n",
              "      <progress value='300000' class='' max='300000' style='width:300px; height:20px; vertical-align: middle;'></progress>\n",
              "      100.00% [300000/300000 38:31<00:00 Average Loss = 3,265]\n",
              "    </div>\n",
              "    "
            ],
            "text/plain": [
              "<IPython.core.display.HTML object>"
            ]
          },
          "metadata": {}
        },
        {
          "output_type": "stream",
          "name": "stderr",
          "text": [
            "Finished [100%]: Average Loss = 3,265.4\n"
          ]
        }
      ]
    },
    {
      "cell_type": "markdown",
      "metadata": {
        "id": "Qxj41qXMyzal"
      },
      "source": [
        "Plot loss for Bayesian multinomial logistic regression:"
      ]
    },
    {
      "cell_type": "code",
      "metadata": {
        "id": "WNmJvYc4Rho7",
        "colab": {
          "base_uri": "https://localhost:8080/",
          "height": 502
        },
        "outputId": "0bfefb63-6391-4961-8ef9-6a7c1bb51811"
      },
      "source": [
        "plt.plot(approx.hist)"
      ],
      "execution_count": 26,
      "outputs": [
        {
          "output_type": "execute_result",
          "data": {
            "text/plain": [
              "[<matplotlib.lines.Line2D at 0x7fe9554a9810>]"
            ]
          },
          "metadata": {},
          "execution_count": 26
        },
        {
          "output_type": "display_data",
          "data": {
            "image/png": "[encoded data removed]",
            "text/plain": [
              "<Figure size 864x576 with 1 Axes>"
            ]
          },
          "metadata": {
            "needs_background": "light"
          }
        }
      ]
    },
    {
      "cell_type": "code",
      "metadata": {
        "id": "XXh5GXJsRhmr"
      },
      "source": [
        "dd = 300\n",
        "posterior = approx.sample(draws=dd)"
      ],
      "execution_count": 27,
      "outputs": []
    },
    {
      "cell_type": "code",
      "metadata": {
        "colab": {
          "base_uri": "https://localhost:8080/",
          "height": 253
        },
        "id": "UIlFstxK9VRq",
        "outputId": "e8162390-a275-44ea-9be7-88843f5d7891"
      },
      "source": [
        "## The softmax function transforms each element of a collection by computing the exponential\n",
        "#  of each element divided by the sum of the exponentials of all the elements.\n",
        "from scipy.special import softmax\n",
        "\n",
        "#select an image in the test set\n",
        "i = 10 \n",
        "#i = random.randint(0, dd)\n",
        "\n",
        "#select a sample in the posterior\n",
        "s = 100 \n",
        "#s = random.randint(0, dd)\n",
        "\n",
        "\n",
        "beta  = np.hstack([np.zeros((nf,1)),  posterior['beta'][s,:] ])\n",
        "alpha = np.hstack([[0],  posterior['alpha'][s,:] ])\n",
        "image = X_val[i].reshape(28,28)\n",
        "plt.figure(figsize=(2,2))\n",
        "plt.imshow(image,cmap=\"Greys_r\")\n",
        "np.set_printoptions(suppress=True)\n",
        "\n",
        "print(\"test image #\" + str(i))\n",
        "print(\"posterior sample #\" + str(s))\n",
        "print(\"true class=\", y_val[i])\n",
        "print(\"classes: \" + str(classes))\n",
        "print(\"estimated prob=\",softmax((np.array([X_val[i,:].dot(beta) + alpha])))[0,:])"
      ],
      "execution_count": 45,
      "outputs": [
        {
          "output_type": "stream",
          "name": "stdout",
          "text": [
            "test image #10\n",
            "posterior sample #100\n",
            "true class= 2.0\n",
            "classes: [1, 2, 6]\n",
            "estimated prob= [0. 1. 0.]\n"
          ]
        },
        {
          "output_type": "display_data",
          "data": {
            "image/png": "[encoded data removed]",
            "text/plain": [
              "<Figure size 144x144 with 1 Axes>"
            ]
          },
          "metadata": {
            "needs_background": "light"
          }
        }
      ]
    },
    {
      "cell_type": "markdown",
      "metadata": {
        "id": "Zid6uGhXXGvF"
      },
      "source": [
        "We see above that for this sample, the model was 100% confident that the image belonged to class 2, and was correct in this prediction."
      ]
    },
    {
      "cell_type": "code",
      "metadata": {
        "id": "axRWar009VUb"
      },
      "source": [
        "# Bayesian prediction\n",
        "# return the class that has the highest posterior probability\n",
        "y_pred_Bayesian=[]\n",
        "\n",
        "for i in range(X_val.shape[0]):\n",
        "    val=np.zeros((1,len(classes)))\n",
        "    \n",
        "    for s in range(posterior['beta'].shape[0]):\n",
        "        beta = np.hstack([np.zeros((nf,1)),  posterior['beta'][s,:] ])\n",
        "        alpha = np.hstack([[0],  posterior['alpha'][s,:] ])     \n",
        "        val = val + softmax((np.array([X_val[i,:].dot(beta) + alpha])))\n",
        "    \n",
        "    mean_probability = val/posterior['beta'].shape[0]\n",
        "    y_pred_Bayesian.append( np.argmax(mean_probability))"
      ],
      "execution_count": 46,
      "outputs": []
    },
    {
      "cell_type": "code",
      "metadata": {
        "colab": {
          "base_uri": "https://localhost:8080/"
        },
        "id": "_6uetPSq_aml",
        "outputId": "1c7f42cb-ebb5-4bcd-8dc7-d608708a5672"
      },
      "source": [
        "# prediction array (using classes)\n",
        "nn = 10 # just an example\n",
        "np.array(classes)[y_pred_Bayesian[0:nn]]"
      ],
      "execution_count": 47,
      "outputs": [
        {
          "output_type": "execute_result",
          "data": {
            "text/plain": [
              "array([1, 2, 2, 6, 6, 6, 6, 1, 2, 6])"
            ]
          },
          "metadata": {},
          "execution_count": 47
        }
      ]
    },
    {
      "cell_type": "code",
      "metadata": {
        "colab": {
          "base_uri": "https://localhost:8080/"
        },
        "id": "RM90TOkr_aox",
        "outputId": "a0daa6db-db56-42d0-e348-cc4cd3f179f5"
      },
      "source": [
        "# using validation: y_val\n",
        "print(\"Accuracy=\", accuracy_score(np.array(classes)[y_pred_Bayesian], y_val))"
      ],
      "execution_count": 48,
      "outputs": [
        {
          "output_type": "stream",
          "name": "stdout",
          "text": [
            "Accuracy= 0.9716666666666667\n"
          ]
        }
      ]
    },
    {
      "cell_type": "markdown",
      "metadata": {
        "id": "Pq49fdRt_jZC"
      },
      "source": [
        "## Selecting different instances\n"
      ]
    },
    {
      "cell_type": "code",
      "metadata": {
        "id": "Pp5bmIU-_arI"
      },
      "source": [
        "y_predB=[]\n",
        "\n",
        "for i in range(X_val.shape[0]):\n",
        "    #print(i)\n",
        "    val=[]\n",
        "\n",
        "    for s in range(posterior['beta'].shape[0]):\n",
        "        beta = np.hstack([np.zeros((nf,1)),  posterior['beta'][s,:] ])\n",
        "        alpha = np.hstack([[0],  posterior['alpha'][s,:] ])\n",
        "        val.append(softmax((np.array([X_val[i,:].dot(beta) + alpha])))[0,:])\n",
        "\n",
        "    #mean probability\n",
        "    valmean = np.mean(val,axis=0)\n",
        "    #class with maximum mean probability\n",
        "    classmax = np.argmax(valmean)\n",
        "    #ranks\n",
        "    ranks = np.array(val.copy())\n",
        "    ranks   = ranks  *0 #init\n",
        "    colmax = np.argmax(np.array(val),axis=1)\n",
        "    ranks[np.arange(0,len(colmax)),colmax]=1\n",
        "     \n",
        "    y_predB.append( [classmax, valmean[classmax], np.std(ranks,axis=0)[classmax]])\n",
        "\n",
        "    \n",
        "y_predB= np.array(y_predB)"
      ],
      "execution_count": 33,
      "outputs": []
    },
    {
      "cell_type": "code",
      "metadata": {
        "colab": {
          "base_uri": "https://localhost:8080/"
        },
        "id": "HooDwcI2_inu",
        "outputId": "ca09389b-a97f-4527-f717-42dd92ffea6f"
      },
      "source": [
        "# prediction array\n",
        "mm = 10\n",
        "y_predB[0:mm,:]"
      ],
      "execution_count": 34,
      "outputs": [
        {
          "output_type": "execute_result",
          "data": {
            "text/plain": [
              "array([[0.        , 0.99990695, 0.        ],\n",
              "       [1.        , 0.9223937 , 0.26068286],\n",
              "       [1.        , 1.        , 0.        ],\n",
              "       [2.        , 1.        , 0.        ],\n",
              "       [2.        , 1.        , 0.        ],\n",
              "       [2.        , 1.        , 0.        ],\n",
              "       [2.        , 1.        , 0.        ],\n",
              "       [0.        , 0.99990188, 0.        ],\n",
              "       [1.        , 1.        , 0.        ],\n",
              "       [2.        , 1.        , 0.        ]])"
            ]
          },
          "metadata": {},
          "execution_count": 34
        }
      ]
    },
    {
      "cell_type": "code",
      "metadata": {
        "colab": {
          "base_uri": "https://localhost:8080/"
        },
        "id": "gt55ZjrB_it1",
        "outputId": "6f2c88a9-a8b6-482b-c8f4-5ddc3bdac998"
      },
      "source": [
        "#sorting in descending order\n",
        "difficult = np.argsort(-y_predB[:,2])\n",
        "y_predB[difficult[0:mm],:]"
      ],
      "execution_count": 35,
      "outputs": [
        {
          "output_type": "execute_result",
          "data": {
            "text/plain": [
              "array([[0.        , 0.52203459, 0.49982219],\n",
              "       [2.        , 0.52761646, 0.49959984],\n",
              "       [1.        , 0.5267833 , 0.49945526],\n",
              "       [0.        , 0.55625735, 0.49749372],\n",
              "       [2.        , 0.5699428 , 0.49553562],\n",
              "       [1.        , 0.58501134, 0.49300665],\n",
              "       [0.        , 0.59306787, 0.49121165],\n",
              "       [1.        , 0.59397563, 0.48989795],\n",
              "       [2.        , 0.59921545, 0.48848974],\n",
              "       [1.        , 0.60553885, 0.48774994]])"
            ]
          },
          "metadata": {},
          "execution_count": 35
        }
      ]
    },
    {
      "cell_type": "code",
      "metadata": {
        "colab": {
          "base_uri": "https://localhost:8080/"
        },
        "id": "nQuxUFyw_iwC",
        "outputId": "79781aab-aa87-4ae0-d8ba-674618c372c1"
      },
      "source": [
        "#probability of general-recipe logistic regression in wrong instances\n",
        "prob_classmax[y_pred_logi_prob != y_val]"
      ],
      "execution_count": 36,
      "outputs": [
        {
          "output_type": "execute_result",
          "data": {
            "text/plain": [
              "array([[0.99262366, 0.9642093 , 1.        , 0.9996684 , 0.99866365,\n",
              "        0.99999865, 0.99996613, 0.99627521, 0.99993955, 0.99944142,\n",
              "        0.98939665, 0.99109288, 0.99914662, 0.99451793, 0.8951549 ,\n",
              "        0.99999786, 0.99999822, 0.98228139, 0.97849008, 0.99110461,\n",
              "        0.99990202, 0.99875315, 0.99994812, 0.99998452, 0.99997709,\n",
              "        0.99360666, 0.99602481, 0.99756929, 0.99999988, 0.9991082 ,\n",
              "        0.99967199, 0.997259  , 0.99739428, 0.99999678, 0.99998554,\n",
              "        0.99985035, 0.99972334, 0.99996052, 0.99980843, 0.99997368,\n",
              "        0.99999923, 0.99303287, 0.9991659 , 0.99069398, 0.99677686,\n",
              "        0.99076498, 0.57001451, 0.9999999 , 0.97440735, 0.99915391,\n",
              "        0.99988913, 0.96315567, 0.99918325, 0.99464488, 0.99997597,\n",
              "        0.99257257, 0.99992698, 0.99777591, 0.98509472, 0.99787257,\n",
              "        0.99995751, 0.75551076, 0.7496085 , 0.99185086, 0.99992227,\n",
              "        0.99942553, 0.99828187, 0.99805041, 0.99981144, 0.99720282,\n",
              "        0.99964026, 0.99948118, 0.99994776, 0.99999978, 0.98931855,\n",
              "        0.99866687, 0.99998248, 0.99999055, 0.58455545, 0.99660154,\n",
              "        0.99901162, 0.99738924, 0.99750645, 0.99999264, 0.99871797,\n",
              "        0.99989555, 0.99698408, 0.99536335, 0.95044257, 0.99513794,\n",
              "        0.9681675 , 0.99996688, 0.99987041, 0.64780672, 0.99891032,\n",
              "        0.99907688, 0.99549285, 0.99055148, 0.99903115, 0.9976934 ,\n",
              "        0.9987758 , 0.99951067, 0.99655135, 0.99999465, 0.99800652,\n",
              "        0.597132  , 0.99655898, 0.99998771, 0.99982442, 0.99988633,\n",
              "        0.99999979, 0.99756294, 0.99474523, 0.99996035, 0.99997239,\n",
              "        0.99930524, 0.99843366, 0.79365265, 0.97136561, 0.99999596,\n",
              "        0.99999804, 0.93248932, 0.99994251, 0.99429022, 0.99982159,\n",
              "        0.97539337, 0.99993212, 0.99989334, 0.98427383, 0.99896703,\n",
              "        0.99999515, 0.99971073, 0.99857823, 0.97520507, 0.99880324,\n",
              "        0.99918305, 0.99997109, 0.99931036, 0.99938867, 0.99623682,\n",
              "        0.87395809, 0.99989885, 0.95412682, 0.99573357, 0.97907928,\n",
              "        0.99987527, 0.99759608, 0.99923057, 0.99999667, 0.99999265,\n",
              "        0.99945657, 0.70310739, 0.99999407, 0.99999953, 0.99248654,\n",
              "        0.9917255 , 0.96857065, 0.99685013, 0.99704337, 0.99778127,\n",
              "        0.78154439, 0.99999998, 0.99286618, 0.99552487, 0.99928015,\n",
              "        0.99986146, 0.99971587, 0.99945993, 0.99788399, 0.99999752,\n",
              "        0.99775331, 0.99786576, 0.99990809, 0.99999974, 0.99999211,\n",
              "        0.99779615, 0.89266816, 0.99969226, 0.99926732, 0.99999925,\n",
              "        0.99959604, 0.99983886, 0.99999743, 0.95771357, 0.99780595,\n",
              "        0.99986127, 0.98416928, 0.99017615, 0.9974789 , 0.96318746,\n",
              "        0.99262699, 0.99953305, 0.99952441, 0.99987804, 0.99980756,\n",
              "        0.9832103 , 0.99073278, 0.99557976, 0.99977514, 0.99380659,\n",
              "        0.99801491, 0.99912436, 0.99977284, 0.99960426, 0.5897657 ,\n",
              "        0.99991957, 0.95411515, 0.99929969, 0.97599834, 0.99808869,\n",
              "        0.92827337, 0.99975026, 0.99988272, 0.99639503, 0.99912811,\n",
              "        0.9999977 , 0.90890078, 0.98769346, 0.99993425, 0.99993225,\n",
              "        0.97620614, 0.97105385, 0.99411359, 0.99999676, 0.99614917,\n",
              "        0.95547661, 0.99999972, 0.99999499, 0.99923775, 0.99416774,\n",
              "        0.99276379, 0.99073482, 0.99986071, 0.93134348, 0.99815091,\n",
              "        0.99001876, 0.99719433, 0.99984392, 0.99999899, 0.99979402,\n",
              "        0.99999883, 0.98640864, 0.98489008, 0.94900756, 0.9935815 ,\n",
              "        0.9999861 , 0.9840024 , 0.99999999, 0.99999414, 0.84393256,\n",
              "        0.99906276, 0.86060212, 0.9995364 , 0.99971458, 0.99682572,\n",
              "        0.9597214 , 0.99789274, 0.99994654, 0.99996376, 0.99787735,\n",
              "        0.86314395, 0.99062817, 0.99985919, 0.99777963, 0.99720392,\n",
              "        0.96252169, 0.9929304 , 0.99826884, 0.99957692, 0.95912234,\n",
              "        0.99977001, 0.99915061, 0.99083168, 0.99985991, 0.99827876,\n",
              "        0.99995839, 0.99980078, 0.99760548, 0.99972403, 0.9999998 ,\n",
              "        0.9991958 , 0.99999998, 0.9197829 , 0.99192536, 0.99952631,\n",
              "        0.99995514, 0.99746383, 0.99802201, 0.99987351, 0.7587113 ,\n",
              "        0.99999966, 0.98161868, 0.9885782 , 0.999995  , 0.99998326,\n",
              "        0.99639597, 0.99947069, 0.99974697, 0.99383395, 0.99996836,\n",
              "        0.99978517, 0.99829815, 0.97030106, 0.99992977, 0.99984508,\n",
              "        0.97644606, 0.99954233, 0.99519573, 0.99962275, 0.99587832,\n",
              "        0.99999535, 0.99905218, 0.9999727 , 0.9998717 , 0.9975012 ,\n",
              "        0.99983331, 0.67310474, 0.99997721, 0.99989444, 0.99124719,\n",
              "        0.99971165, 0.9996303 , 0.97153019, 0.98933686, 0.99981332,\n",
              "        0.99977453, 0.99999188, 0.98929259, 0.99998809, 0.99754575,\n",
              "        0.98278265, 0.99995092, 0.9998553 , 0.99439432, 0.99760908,\n",
              "        0.99998848, 0.991759  , 0.99815585, 0.99962861, 0.95940484,\n",
              "        0.95904533, 0.99857143, 0.99624907, 0.98008346, 0.99999895,\n",
              "        0.99485291, 0.99973582, 0.99904584, 0.9992917 , 0.99978265,\n",
              "        0.99708576, 0.99872312, 0.93646777, 0.99693948, 0.99015729,\n",
              "        0.98074566, 0.99998016, 0.9992204 , 0.995099  , 0.99982841,\n",
              "        0.99988152, 0.99610663, 0.95963627, 0.90156453, 0.9999962 ,\n",
              "        0.99995666, 0.99835499, 0.99913055, 0.99974839, 0.99794498,\n",
              "        0.99900989, 0.99119158, 0.99979271, 0.90673828, 0.97445299,\n",
              "        0.99952657, 0.99974495, 0.99972037, 0.99999891, 0.98790875,\n",
              "        0.99993085, 0.99993371, 0.99888985, 0.99999994, 0.89969621,\n",
              "        0.9999234 , 0.5800951 , 0.99966186, 0.99787295, 0.99981539,\n",
              "        0.99995086, 0.99902158, 0.99983139, 0.99964994, 0.99836388,\n",
              "        0.99991487, 0.99946652, 0.99961832, 0.9984766 , 0.58749355,\n",
              "        0.99984507, 0.95210246, 0.99746598, 0.99999223, 0.98148102,\n",
              "        0.9997666 , 0.99811643, 0.97923182, 0.99914164, 0.99977997,\n",
              "        0.99942615, 0.58732928, 0.99934914, 0.99840935, 0.90118675,\n",
              "        0.99962615, 0.65375957, 0.99570445, 0.99972554, 0.99978511,\n",
              "        0.9999982 , 0.99887862, 0.99973247, 0.99999019, 0.99829933,\n",
              "        0.99998979, 0.99641586, 0.99914084, 0.9997814 , 0.99910374,\n",
              "        0.99999983, 0.99999615, 0.99971276, 0.99850698, 0.99922223,\n",
              "        0.99999998, 0.95453463, 0.99936009, 0.99993236, 0.99240667,\n",
              "        1.        , 0.99670828, 0.99676883, 0.99975989, 0.9872358 ,\n",
              "        0.99719128, 0.99999611, 0.99927325, 0.95384299, 0.99893571,\n",
              "        0.65333757, 0.97446418, 0.68513962, 0.98846008, 0.99945542,\n",
              "        0.97796169, 0.99686646, 0.99979918, 0.98722038, 0.99058169,\n",
              "        0.99860002, 0.99972146, 0.97669573, 0.99776718, 0.99985317,\n",
              "        0.99999894, 0.90542005, 0.99213227, 0.99776124, 0.95762968,\n",
              "        0.99999876, 0.99994728, 0.99521721, 0.99961984, 0.99999995,\n",
              "        0.99999331, 0.99998982, 0.98297467, 0.58481292, 0.99999397,\n",
              "        0.999607  , 0.5099486 , 1.        , 0.99490812, 0.95600967,\n",
              "        0.67571503, 0.98933543, 0.99991925, 0.99954635, 0.99999922,\n",
              "        0.99998687, 0.99999773, 0.99943904, 0.99662433, 0.99649281,\n",
              "        0.99929716, 0.99992419, 0.99996382, 0.99689583, 0.96836659,\n",
              "        0.99903473, 0.99137884, 0.99999836, 0.98573201, 0.99987996,\n",
              "        0.99896978, 0.99920321, 0.99645687, 0.98971146, 0.99997222,\n",
              "        0.99572145, 0.99928329, 0.99999777, 0.99835896, 0.99935292,\n",
              "        0.99926125, 0.99895273, 0.98778498, 0.99914461, 0.99553491,\n",
              "        0.99975041, 0.99938352, 0.99603466, 0.99805919, 0.99978375,\n",
              "        0.99764883, 0.9733894 , 0.99999722, 0.9998597 , 0.9999965 ,\n",
              "        0.99989736, 0.9948652 , 0.97685737, 0.99951305, 0.77361537,\n",
              "        0.99783975, 0.99737035, 0.99968375, 0.99090331, 0.61537429,\n",
              "        0.99954248, 0.99999816, 0.99813845, 0.99851761, 0.99883443,\n",
              "        0.99999319, 0.99950295, 0.99842668, 0.99991429, 0.86626889,\n",
              "        0.99786809, 0.55732018, 1.        , 0.9865825 , 0.99618768,\n",
              "        0.99579043, 0.99022746, 0.99971639, 0.99627441, 0.99957464,\n",
              "        0.99999996, 0.99577212, 0.99943316, 0.61225729, 0.94700363,\n",
              "        0.9999905 , 0.99844672, 0.99864911, 0.9986182 , 0.99783343,\n",
              "        0.99186122, 0.99981061, 0.97907493, 0.89187125, 0.98894585,\n",
              "        0.99997862, 0.98021278, 0.99998821, 0.99415987, 0.99018679,\n",
              "        0.83144509, 0.99876449, 0.9996521 , 0.99999144, 0.99195733,\n",
              "        0.99999923, 0.99961432, 0.90341722, 0.99358429, 0.9982599 ,\n",
              "        0.99557672, 0.99965846, 0.99857541, 0.98708718, 0.99672093,\n",
              "        0.99974121, 0.99999997, 0.99607365, 0.99883512, 0.99996824]])"
            ]
          },
          "metadata": {},
          "execution_count": 36
        }
      ]
    },
    {
      "cell_type": "code",
      "metadata": {
        "colab": {
          "base_uri": "https://localhost:8080/"
        },
        "id": "K3B2CkNm_i0C",
        "outputId": "b75c984b-317b-43ae-a79e-bff4fbf6b11e"
      },
      "source": [
        "y_predB[y_pred_logi_prob != y_val,:]"
      ],
      "execution_count": 37,
      "outputs": [
        {
          "output_type": "execute_result",
          "data": {
            "text/plain": [
              "array([[[0.        , 0.99990695, 0.        ],\n",
              "        [1.        , 0.9223937 , 0.26068286],\n",
              "        [1.        , 1.        , 0.        ],\n",
              "        ...,\n",
              "        [0.        , 0.99876698, 0.        ],\n",
              "        [0.        , 0.99998018, 0.        ],\n",
              "        [2.        , 1.        , 0.        ]]])"
            ]
          },
          "metadata": {},
          "execution_count": 37
        }
      ]
    },
    {
      "cell_type": "code",
      "metadata": {
        "colab": {
          "base_uri": "https://localhost:8080/"
        },
        "id": "qSLHO8hx_i2P",
        "outputId": "55f7bd59-2d27-43ae-8ef7-c599dba23797"
      },
      "source": [
        "## Difficult & easy instances\n",
        "\n",
        "easy = np.argsort(y_predB[:,2])\n",
        "print(\"Accuracy in easy instances =\", accuracy_score(y_pred_log[easy[0:100]], y_val[easy[0:100]]))\n",
        "\n",
        "difficult = np.argsort(-y_predB[:,2])\n",
        "print(\"Accuracy in difficult instances =\", accuracy_score(y_pred_log[difficult[0:100]], y_val[difficult[0:100]]))"
      ],
      "execution_count": 38,
      "outputs": [
        {
          "output_type": "stream",
          "name": "stdout",
          "text": [
            "Accuracy in easy instances = 1.0\n",
            "Accuracy in difficult instances = 0.84\n"
          ]
        }
      ]
    },
    {
      "cell_type": "code",
      "metadata": {
        "colab": {
          "base_uri": "https://localhost:8080/",
          "height": 357
        },
        "id": "7NyStyZd_i5h",
        "outputId": "9734b6ed-9e05-402a-ea45-a251d5baed28"
      },
      "source": [
        "# show 10 random 'easy' images\n",
        "fig, axs = plt.subplots(2,5, figsize=(15, 6))\n",
        "fig.subplots_adjust(hspace = .2, wspace=.001)\n",
        "axs = axs.ravel()\n",
        "\n",
        "for i in range(10):\n",
        "    index = easy[i]\n",
        "    image = X_val[index,:].reshape(28,28)\n",
        "    axs[i].axis('off')\n",
        "    axs[i].imshow(image,cmap=\"Greys_r\")"
      ],
      "execution_count": 39,
      "outputs": [
        {
          "output_type": "display_data",
          "data": {
            "image/png": "[encoded data removed]",
            "text/plain": [
              "<Figure size 1080x432 with 10 Axes>"
            ]
          },
          "metadata": {
            "needs_background": "light"
          }
        }
      ]
    },
    {
      "cell_type": "code",
      "metadata": {
        "colab": {
          "base_uri": "https://localhost:8080/",
          "height": 357
        },
        "id": "0hjDQ_xa_ay6",
        "outputId": "1ee08a84-2b86-4bd1-99df-a146edc85b8b"
      },
      "source": [
        "# show 10 random 'difficult' images\n",
        "fig, axs = plt.subplots(2,5, figsize=(15, 6))\n",
        "fig.subplots_adjust(hspace = .2, wspace=.001)\n",
        "axs = axs.ravel()\n",
        "for i in range(10):\n",
        "    index = difficult[i]\n",
        "    image = X_val[index,:].reshape(28,28)\n",
        "    axs[i].axis('off')\n",
        "    axs[i].imshow(image,cmap=\"Greys_r\")"
      ],
      "execution_count": 40,
      "outputs": [
        {
          "output_type": "display_data",
          "data": {
            "image/png": "[encoded data removed]",
            "text/plain": [
              "<Figure size 1080x432 with 10 Axes>"
            ]
          },
          "metadata": {
            "needs_background": "light"
          }
        }
      ]
    },
    {
      "cell_type": "markdown",
      "metadata": {
        "id": "74Ca4oLxZNsi"
      },
      "source": [
        "* Use the posterior uncertainty to detect the instances (digits) in the test set that are hard to classify and remove them from the test-set.\n",
        "* Compute again the accuracy of the general-recipe logistic regression on the remaining (non-difficult) instances and comment on the result."
      ]
    },
    {
      "cell_type": "code",
      "metadata": {
        "id": "LR06g1EWnzB_"
      },
      "source": [
        "# only save easy data with predictions (exclude those with a high standard deviation): \n",
        "X_test_easy_only = X_val[y_predB[:,2] < 0.1]\n",
        "y_test_easy_only = y_val[y_predB[:,2] < 0.1]"
      ],
      "execution_count": 93,
      "outputs": []
    },
    {
      "cell_type": "code",
      "metadata": {
        "colab": {
          "base_uri": "https://localhost:8080/"
        },
        "id": "9snw1y5fZuFz",
        "outputId": "b00fe17c-b43e-44a0-d6f9-75ffa822b7e0"
      },
      "source": [
        "# General recipe model for X_test_easy_only, with difficult samples removed:\n",
        "\n",
        "y_pred_log = model_log.predict(X_test_easy_only)\n",
        "y_pred_logi_prob = model_log.predict_proba(X_test_easy_only)\n",
        "\n",
        "print(\"Original test dataset: \", len(X_val))\n",
        "print(\"Number of difficult instances removed with standard dev. over 0.1: \", len(X_val) - len(X_test_easy_only))\n",
        "print(\"Number of remaining non-difficult instances: \", len(X_test_easy_only))\n",
        "print(\"\")\n",
        "\n",
        "\n",
        "print(classification_report(y_pred_log, y_test_easy_only))\n",
        "print(\"Accuracy of general recipe LR model after removing difficult instances: \") \n",
        "print(accuracy_score(y_pred_log, y_test_easy_only))\n",
        "print(\"\")\n",
        "print(confusion_matrix(y_pred_log, y_test_easy_only))"
      ],
      "execution_count": 99,
      "outputs": [
        {
          "output_type": "stream",
          "name": "stdout",
          "text": [
            "Original test dataset:  600\n",
            "Number of difficult instances removed with standard dev. over 0.1:  99\n",
            "Number of remaining non-difficult instances:  501\n",
            "\n",
            "              precision    recall  f1-score   support\n",
            "\n",
            "         1.0       0.99      1.00      1.00       200\n",
            "         2.0       1.00      0.98      0.99       150\n",
            "         6.0       0.99      1.00      1.00       151\n",
            "\n",
            "    accuracy                           0.99       501\n",
            "   macro avg       0.99      0.99      0.99       501\n",
            "weighted avg       0.99      0.99      0.99       501\n",
            "\n",
            "Accuracy of general recipe LR model after removing difficult instances: \n",
            "0.9940119760479041\n",
            "\n",
            "[[200   0   0]\n",
            " [  2 147   1]\n",
            " [  0   0 151]]\n"
          ]
        }
      ]
    },
    {
      "cell_type": "markdown",
      "metadata": {
        "id": "a32PiOb4q2I5"
      },
      "source": [
        "We see improved precision and recall across the 3 classes, when the difficult instances are removed."
      ]
    },
    {
      "cell_type": "code",
      "metadata": {
        "id": "ypQLDNFvZuJe"
      },
      "source": [
        ""
      ],
      "execution_count": null,
      "outputs": []
    },
    {
      "cell_type": "markdown",
      "metadata": {
        "id": "NcshsLOGRPrk"
      },
      "source": [
        "## Summary"
      ]
    },
    {
      "cell_type": "markdown",
      "metadata": {
        "id": "XTc4pYKGRR60"
      },
      "source": [
        "* 3 classes were randomly subsetted from the 10-class dataset. A training set of 2400 and a test set of 600 was randomly sampled across these three classes. \n",
        "* An initial logistic regression model was fit to this data. The accuracy across the test data of 600 instances was 96%.\n",
        "* A Bayesian multinomial logistic regression classifier was trained, and improved classsification accuracy to 97%. Additionally, using a Bayesian method to assess data samples shows us the probability distributions for a test sample being predicted a certain class. \n",
        "* Using these probabilities, we can exclude difficult to classify samples, or where there is a high standard deviation (and therefore lower prediction probability confidence.)\n",
        "* Finally, with the difficult to classify samples excluded from the test dataset, the original logistic regression classifier was again used to predict on the new smaller test set of \"easy\" samples.\n",
        "* The accuracy now improved to 99%, with less false positives and improved recall overall, as observed by the classification report.\n",
        "\n",
        "\n",
        "\n",
        "\n",
        "\n",
        "#### References:\n",
        "\n",
        "\n",
        "[Kucukelbir, A., Tran, D., Ranganath, R., Gelman, A., & Blei, D. M. (2017). Automatic differentiation variational inference. The Journal of Machine Learning Research, 18(1), 430-474.](https://arxiv.org/abs/1603.00788)\n",
        "\n",
        " Kana, M.(2020). Introduction to Bayesian Logistic Regression, [Towards Data Science](https://towardsdatascience.com/introduction-to-bayesian-logistic-regression-7e39a0bae691)  - Good primer on inner workings of Bayesian LR\n"
      ]
    },
    {
      "cell_type": "code",
      "metadata": {
        "id": "wrHavcblw5oA"
      },
      "source": [
        ""
      ],
      "execution_count": null,
      "outputs": []
    }
  ]
}